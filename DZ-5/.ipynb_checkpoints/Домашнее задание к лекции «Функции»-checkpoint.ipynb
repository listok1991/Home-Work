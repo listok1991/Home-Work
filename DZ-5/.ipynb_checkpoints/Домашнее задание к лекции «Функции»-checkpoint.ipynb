{
 "cells": [
  {
   "cell_type": "markdown",
   "metadata": {},
   "source": [
    "Домашнее задание к лекции \"Функции\""
   ]
  },
  {
   "cell_type": "markdown",
   "metadata": {},
   "source": [
    "Вам нужно помочь секретарю автоматизировать работу. Для этого нужно написать программу, которая будет на основе хранимых данных исполнять пользовательские команды.\n",
    "\n",
    "Исходные данные имеют следующую структуру:\n",
    "\n",
    "перечень всех документов"
   ]
  },
  {
   "cell_type": "markdown",
   "metadata": {},
   "source": [
    "перечень полок, на которых хранятся документы (если документ есть в documents, то он обязательно должен быть и в directories)"
   ]
  },
  {
   "cell_type": "code",
   "execution_count": 1,
   "metadata": {},
   "outputs": [],
   "source": [
    "documents = [\n",
    " {'type': 'passport', 'number': '2207 876234', 'name': 'Василий Гупкин'},\n",
    " {'type': 'invoice', 'number': '11-2', 'name': 'Геннадий Покемонов'},\n",
    " {'type': 'insurance', 'number': '10006', 'name': 'Аристарх Павлов'}\n",
    "]"
   ]
  },
  {
   "cell_type": "code",
   "execution_count": 2,
   "metadata": {},
   "outputs": [],
   "source": [
    "directories = {\n",
    " '1': ['2207 876234', '11-2'],\n",
    " '2': ['10006'],\n",
    " '3': []\n",
    "}"
   ]
  },
  {
   "cell_type": "markdown",
   "metadata": {},
   "source": [
    "Общие требования к программе:\n",
    "\n",
    "код должен быть грамотно декомпозирован (каждая функция отвечает за свою конкретную задачу, дублирующийся функционал переиспользуется, а его код не повторяется);\n",
    "в коде отсутствуют глобальные переменные (за исключением documents и directories);\n",
    "пользовательский ввод обрабатывается в цикле while до тех пор, пока пользователь явно не завершит программу (вводом команды \"q\")."
   ]
  },
  {
   "cell_type": "markdown",
   "metadata": {},
   "source": [
    "Задание 1\n",
    "Пункт 1. Пользователь по команде \"p\" может узнать владельца документа по его номеру"
   ]
  },
  {
   "cell_type": "markdown",
   "metadata": {},
   "source": [
    "Примеры работы:\n",
    "\n",
    "1.\n",
    "\n",
    "Введите команду:\n",
    "p\n",
    "\n",
    "Введите номер документа:\n",
    "10006\n",
    "Результат:\n",
    "Владелец документа: Аристарх Павлов\n",
    "\n",
    "2.\n",
    "\n",
    "Введите команду:\n",
    "p\n",
    "\n",
    "Введите номер документа:\n",
    "12345\n",
    "Результат:\n",
    "Документ не найден в базе"
   ]
  },
  {
   "cell_type": "code",
   "execution_count": 3,
   "metadata": {},
   "outputs": [],
   "source": [
    "# функция посика по номеру документа владельца \"p\"\n",
    "def p(docnumber):\n",
    "    nameCN = 0 # счетчик для определения не найденного документа \n",
    "    for name in documents:\n",
    "        if name['number'] == docnumber:\n",
    "            print('Владелец документа: ', name['name'])\n",
    "            nameCN += 1\n",
    "    if nameCN == 0:\n",
    "        print('Документ не найден в базе')"
   ]
  },
  {
   "cell_type": "code",
   "execution_count": null,
   "metadata": {},
   "outputs": [],
   "source": [
    "# проверка функции \n",
    "#p(input('введите номер документа: '))"
   ]
  },
  {
   "cell_type": "markdown",
   "metadata": {},
   "source": [
    "Пункт 2. Пользователь по команде \"s\" может по номеру документа узнать на какой полке он хранится\n",
    "Примеры работы:\n",
    "\n",
    "1.\n",
    "\n",
    "Введите команду:\n",
    "s\n",
    "\n",
    "Введите номер документа:\n",
    "10006\n",
    "Результат:\n",
    "Документ хранится на полке: 2\n",
    "\n",
    "2.\n",
    "\n",
    "Введите команду:\n",
    "p\n",
    "\n",
    "Введите номер документа:\n",
    "12345\n",
    "Результат:\n",
    "Документ не найден в базе"
   ]
  },
  {
   "cell_type": "code",
   "execution_count": 17,
   "metadata": {},
   "outputs": [],
   "source": [
    "# функция посика по номеру документа полки \"shelffind\"\n",
    "def shelffind(docnumber):\n",
    "    shelfCN = 0\n",
    "    for shelf, number in directories.items():\n",
    "        if docnumber in number:\n",
    "            shelfnumber = shelf\n",
    "            shelfCN +=1\n",
    "            return shelfnumber"
   ]
  },
  {
   "cell_type": "code",
   "execution_count": 19,
   "metadata": {},
   "outputs": [
    {
     "name": "stdout",
     "output_type": "stream",
     "text": [
      "None\n"
     ]
    }
   ],
   "source": [
    "# провекра функции \n",
    "print(shelffind('100062'))"
   ]
  },
  {
   "cell_type": "code",
   "execution_count": 34,
   "metadata": {},
   "outputs": [],
   "source": [
    "# функция поиска полки по номеру документа для команды \"s\"\n",
    "def s(docnumber):\n",
    "    if shelffind(docnumber) == None:\n",
    "        print('Документ не найден в базе')\n",
    "    else: print('Документ хранится на полке:', shelffind(docnumber))"
   ]
  },
  {
   "cell_type": "code",
   "execution_count": 36,
   "metadata": {},
   "outputs": [
    {
     "name": "stdout",
     "output_type": "stream",
     "text": [
      "Документ хранится на полке: 2\n"
     ]
    }
   ],
   "source": [
    "s('10006')"
   ]
  },
  {
   "cell_type": "markdown",
   "metadata": {},
   "source": [
    "Пункт 3. Пользователь по команде \"l\" может увидеть полную информацию по всем документам\n",
    "Пример работы:\n",
    "\n",
    "Введите команду:\n",
    "l\n",
    "Результат:\n",
    "\n",
    "№: 2207 876234, тип: passport, владелец: Василий Гупкин, полка хранения: 1\n",
    "№: 11-2, тип: invoice, владелец: Геннадий Покемонов, полка хранения: 1\n",
    "№: 10006, тип: insurance, владелец: Аристарх Павлов, полка хранения: 2"
   ]
  },
  {
   "cell_type": "code",
   "execution_count": 5,
   "metadata": {},
   "outputs": [],
   "source": [
    "# Функция получения информации \"i\"\n",
    "def i():\n",
    "    for info in documents:\n",
    "        print('№: ', info['number'], 'тип: ',info['type'], 'владелец:', info['name'], 'Полка хранения: ', shelffind(info['number']))"
   ]
  },
  {
   "cell_type": "code",
   "execution_count": null,
   "metadata": {},
   "outputs": [],
   "source": [
    "# проверка функции \n",
    "#i()"
   ]
  },
  {
   "cell_type": "markdown",
   "metadata": {},
   "source": [
    "Пункт 4. Пользователь по команде \"ads\" может добавить новую полку\n",
    "Примеры работы:\n",
    "\n",
    "1.\n",
    "\n",
    "Введите команду:\n",
    "ads\n",
    "\n",
    "Введите номер полки:\n",
    "10\n",
    "Результат:\n",
    "Полка добавлена. Текущий перечень полок: 1, 2, 3, 10.\n",
    "\n",
    "2.\n",
    "\n",
    "Введите команду:\n",
    "ads\n",
    "\n",
    "Введите номер полки:\n",
    "1\n",
    "Результат:\n",
    "Такая полка уже существует. Текущий перечень полок: 1, 2, 3."
   ]
  },
  {
   "cell_type": "code",
   "execution_count": 6,
   "metadata": {},
   "outputs": [],
   "source": [
    "# функция возврта текущего переченя полок\n",
    "def skroll():\n",
    "    skroll1 = ', '.join(list(directories.keys()))\n",
    "    return skroll1\n"
   ]
  },
  {
   "cell_type": "code",
   "execution_count": null,
   "metadata": {},
   "outputs": [],
   "source": [
    "# проверка функции\n",
    "# skroll()"
   ]
  },
  {
   "cell_type": "code",
   "execution_count": 7,
   "metadata": {},
   "outputs": [],
   "source": [
    "# функция добавления полки \"ads\"\n",
    "def ads(addshelf):\n",
    "    if addshelf not in directories.keys():\n",
    "        directories[addshelf] = []\n",
    "        print ('Полка добавлена. Текущий перечень полок :', skroll())\n",
    "    else: print ('Такая полка уже существует. Текущий перечень полок :', skroll())\n"
   ]
  },
  {
   "cell_type": "markdown",
   "metadata": {},
   "source": [
    "Пункт 5. Пользователь по команде \"ds\" может удалить существующую полку из данных (только если она пустая)\n",
    "Примеры работы:\n",
    "\n",
    "1.\n",
    "\n",
    "Введите команду:\n",
    "ds\n",
    "\n",
    "Введите номер полки:\n",
    "3\n",
    "Результат:\n",
    "Полка удалена. Текущий перечень полок: 1, 2.\n",
    "\n",
    "2.\n",
    "\n",
    "Введите команду:\n",
    "ds\n",
    "\n",
    "Введите номер полки:\n",
    "1\n",
    "Результат:\n",
    "На полке есть документа, удалите их перед удалением полки. Текущий перечень полок: 1, 2, 3.\n",
    "\n",
    "3.\n",
    "\n",
    "Введите команду:\n",
    "ds\n",
    "\n",
    "Введите номер полки:\n",
    "4\n",
    "Результат:\n",
    "Такой полки не существует. Текущий перечень полок: 1, 2, 3."
   ]
  },
  {
   "cell_type": "code",
   "execution_count": 8,
   "metadata": {},
   "outputs": [],
   "source": [
    "# функция удаления полки \"ds\"\n",
    "def ds(delshelf):\n",
    "    if delshelf in directories.keys():\n",
    "        if directories[delshelf] == []:\n",
    "            del directories[delshelf]\n",
    "            print('Полка удалена. Текущий перечень полок:',skroll())\n",
    "        else: print('На полке есть документы, удалите их перед удалением полки. Текущий перечень полок:', skroll())\n",
    "    else: print ('Такой полки не существует. Текущий перечень полок:', skroll())\n"
   ]
  },
  {
   "cell_type": "code",
   "execution_count": 49,
   "metadata": {},
   "outputs": [
    {
     "name": "stdout",
     "output_type": "stream",
     "text": [
      "введите команду: p\n",
      "введите номер документа :10006\n",
      "Владелец документа:  Аристарх Павлов\n",
      "введите команду: p\n",
      "введите номер документа :1006\n",
      "Документ не найден в базе\n",
      "введите команду: s\n",
      "введите номер документа :10006\n",
      "Документ хранится на полке: 2\n",
      "введите команду: s\n",
      "введите номер документа :5\n",
      "Документ не найден в базе\n",
      "введите команду: i\n",
      "№:  2207 876234 тип:  passport владелец: Василий Гупкин Полка хранения:  1\n",
      "№:  11-2 тип:  invoice владелец: Геннадий Покемонов Полка хранения:  1\n",
      "№:  10006 тип:  insurance владелец: Аристарх Павлов Полка хранения:  2\n",
      "введите команду: ads\n",
      "Введите номер полки:6\n",
      "Полка добавлена. Текущий перечень полок : 1, 2, 3, 6\n",
      "введите команду: ads\n",
      "Введите номер полки:7\n",
      "Полка добавлена. Текущий перечень полок : 1, 2, 3, 6, 7\n",
      "введите команду: ds\n",
      "Введите номер полки:6\n",
      "Полка удалена. Текущий перечень полок: 1, 2, 3, 7\n",
      "введите команду: ds\n",
      "Введите номер полки:6\n",
      "Такой полки не существует. Текущий перечень полок: 1, 2, 3, 7\n",
      "введите команду: ds\n",
      "Введите номер полки:1\n",
      "На полке есть документы, удалите их перед удалением полки. Текущий перечень полок: 1, 2, 3, 7\n",
      "введите команду: q\n"
     ]
    }
   ],
   "source": [
    "command = 0\n",
    "while command != 'q':\n",
    "    command = input('введите команду: ')\n",
    "    if command == 'p':\n",
    "        p(docnumber = input('введите номер документа :'))\n",
    "    elif command == 's':\n",
    "        s(docnumber = input('введите номер документа :'))\n",
    "    elif command == 'i':\n",
    "        i()\n",
    "    elif command == 'ads':\n",
    "        ads(addshelf = input('Введите номер полки:'))\n",
    "    elif command == 'ds':\n",
    "        ds(delshelf = input('Введите номер полки:'))"
   ]
  },
  {
   "cell_type": "code",
   "execution_count": null,
   "metadata": {},
   "outputs": [],
   "source": []
  },
  {
   "cell_type": "code",
   "execution_count": null,
   "metadata": {},
   "outputs": [],
   "source": []
  }
 ],
 "metadata": {
  "kernelspec": {
   "display_name": "Python 3",
   "language": "python",
   "name": "python3"
  },
  "language_info": {
   "codemirror_mode": {
    "name": "ipython",
    "version": 3
   },
   "file_extension": ".py",
   "mimetype": "text/x-python",
   "name": "python",
   "nbconvert_exporter": "python",
   "pygments_lexer": "ipython3",
   "version": "3.8.3"
  }
 },
 "nbformat": 4,
 "nbformat_minor": 4
}
