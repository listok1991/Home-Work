{
 "cells": [
  {
   "cell_type": "markdown",
   "metadata": {},
   "source": [
    "Задание № 1"
   ]
  },
  {
   "cell_type": "markdown",
   "metadata": {},
   "source": [
    "Даны 2 переменных, в которых хранятся строки произвольной длины: phrase_1 и phrase_2.\n",
    "Напишите код, который проверяет какая из этих строк длиннее."
   ]
  },
  {
   "cell_type": "code",
   "execution_count": 1,
   "metadata": {},
   "outputs": [
    {
     "name": "stdout",
     "output_type": "stream",
     "text": [
      "Фраза 1 длинее фразы 2\n"
     ]
    }
   ],
   "source": [
    "phrase_1 = 'Насколько проще было бы писать программы, если бы не заказчики'\n",
    "phrase_2 = '640Кб должно хватить для любых задач. Билл Гейтс (по легенде)'\n",
    "\n",
    "if len(phrase_1)>len(phrase_2):\n",
    "    print(\"Фраза 1 длинее фразы 2\")\n",
    "elif len(phrase_1)<len(phrase_2):\n",
    "    print(\"Фраза 2 длинее фразы 1\")\n",
    "else:\n",
    "    print(\"Фраза 1 равна фразе 2\")"
   ]
  },
  {
   "cell_type": "markdown",
   "metadata": {},
   "source": [
    "Задание № 2"
   ]
  },
  {
   "cell_type": "markdown",
   "metadata": {},
   "source": [
    "Дана переменная, в которой хранится четырехзначное число (год). Необходимо написать программу, которая выведет, является ли данный год високосным или обычным."
   ]
  },
  {
   "cell_type": "code",
   "execution_count": 10,
   "metadata": {},
   "outputs": [
    {
     "name": "stdout",
     "output_type": "stream",
     "text": [
      "Обычный год\n"
     ]
    }
   ],
   "source": [
    "year=1700\n",
    "\n",
    "if(year%4 == 0) and(year%100!=0) or(year%400==0):\n",
    "    print(\"Високосный год\")\n",
    "else: \n",
    "    print(\"Обычный год\")"
   ]
  },
  {
   "cell_type": "markdown",
   "metadata": {},
   "source": [
    "Задание № 3"
   ]
  },
  {
   "cell_type": "markdown",
   "metadata": {},
   "source": [
    "Необходимо написать программу, которая будет запрашивать у пользователя месяц и дату рождения и выводить соответствующий знак зодиака."
   ]
  },
  {
   "cell_type": "code",
   "execution_count": 3,
   "metadata": {},
   "outputs": [
    {
     "name": "stdout",
     "output_type": "stream",
     "text": [
      "Введите день: 20\n",
      "Введите месяц: Ноябрь\n",
      "Ващ знак зодиака:Скорпион\n"
     ]
    }
   ],
   "source": [
    "day=int(input(\"Введите день: \"))\n",
    "month=input(\"Введите месяц: \")\n",
    "\n",
    "\n",
    "if(day>=21 and day<=31 and month==\"Март\") or( day>=1 and day<=20 and month==\"Апрель\"): print(\"Ваш знак зодиака:Овен\")\n",
    "elif(day>=21 and day<=31 and month==\"Апрель\") or( day>=1 and day<=21 and month==\"Май\"): print(\"Ващ знак зодиака:Телец\")\n",
    "elif(day>=22 and day<=31 and month==\"Май\") or( day>=1 and day<=21 and month==\"Июнь\"): print(\"Ваш знак зодиака:Близнецы\")\n",
    "elif(day>=22 and day<=31 and month==\"Июнь\") or( day>=1 and day<=23 and month==\"Июль\"): print(\"Ваш знак зодиака:Рак\")\n",
    "elif(day>=24 and day<=31 and month==\"Июль\") or( day>=1 and day<=23 and month==\"Август\"): print(\"Ващ знак зодиака:Лев\")\n",
    "elif(day>=24 and day<=31 and month==\"Август\") or( day>=1 and day<=23 and month==\"Сентябрь\"): print(\"Ващ знак зодиака:Дева\")\n",
    "elif(day>=24 and day<=31 and month==\"Сентябрь\") or( day>=1 and day<=23 and month==\"Октябрь\"): print(\"Ващ знак зодиака:Весы\")\n",
    "elif(day>=24 and day<=31 and month==\"Октябрь\") or( day>=1 and day<=22 and month==\"Ноябрь\"): print(\"Ващ знак зодиака:Скорпион\")\n",
    "elif(day>=23 and day<=31 and month==\"Ноябрь\") or( day>=1 and day<=21 and month==\"Декабрь\"): print(\"Ващ знак зодиака:Стрелец\")\n",
    "elif(day>=22 and day<=31 and month==\"Декабрь\") or( day>=1 and day<=20 and month==\"Январь\"): print(\"Ващ знак зодиака:Козерог\")\n",
    "elif(day>=21 and day<=31 and month==\"Январь\") or( day>=1 and day<=19 and month==\"Февраль\"): print(\"Ващ знак зодиака:Водолей\")\n",
    "elif(day>=20 and day<=31 and month==\"Февраль\") or( day>=1 and day<=20 and month==\"Март\"): print(\"Ващ знак зодиака:Рыбы\")\n",
    "else: print(\"Некорректный ввод данных\")"
   ]
  },
  {
   "cell_type": "markdown",
   "metadata": {},
   "source": [
    "Задание № 4"
   ]
  },
  {
   "cell_type": "markdown",
   "metadata": {},
   "source": [
    "Вам нужно написать программу для подбора упаковок по размерам товара. Размеры хранятся в переменных (в сантиметрах):\n",
    "\n",
    "width = 10\n",
    "length = 205\n",
    "height = 5\n",
    "Используйте следующие правила:\n",
    "\n",
    "если каждое из трех измерений менее 15 сантиметров, то выведите на экран \"Коробка №1\";\n",
    "если хотя бы одно из измерений больше 15 сантиметров, но менее 50 сантиметров, то выводите \"Коробка №2\";\n",
    "если длина товара больше 2 метров, то выводите \"Упаковка для лыж\";\n",
    "во всех остальных случаях выводите \"Стандартная коробка №3\"."
   ]
  },
  {
   "cell_type": "code",
   "execution_count": 4,
   "metadata": {},
   "outputs": [
    {
     "name": "stdout",
     "output_type": "stream",
     "text": [
      "Введите ширину, см: 15\n",
      "Введите длину, см: 20\n",
      "Введите высоту, см: 15\n",
      "Коробка № 2\n"
     ]
    }
   ],
   "source": [
    "width = int(input(\"Введите ширину, см: \"))\n",
    "length = int(input(\"Введите длину, см: \"))\n",
    "heigth = int(input(\"Введите высоту, см: \"))\n",
    "\n",
    "if(width<=15 and length <15 and heigth <15): print(\"Коробка № 1\")\n",
    "elif(width<=50 or length <50 or heigth <50): print(\"Коробка № 2\")\n",
    "elif(length>2000): print(\"Упаковка для лыж\")\n",
    "else: print(\"Стандартная упаковака № 3\")"
   ]
  }
 ],
 "metadata": {
  "kernelspec": {
   "display_name": "Python 3",
   "language": "python",
   "name": "python3"
  },
  "language_info": {
   "codemirror_mode": {
    "name": "ipython",
    "version": 3
   },
   "file_extension": ".py",
   "mimetype": "text/x-python",
   "name": "python",
   "nbconvert_exporter": "python",
   "pygments_lexer": "ipython3",
   "version": "3.8.3"
  }
 },
 "nbformat": 4,
 "nbformat_minor": 4
}
