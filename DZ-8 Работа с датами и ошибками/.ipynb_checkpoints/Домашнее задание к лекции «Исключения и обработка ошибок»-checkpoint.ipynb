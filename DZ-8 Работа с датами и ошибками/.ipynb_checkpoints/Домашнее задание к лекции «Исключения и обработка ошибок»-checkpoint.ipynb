{
 "cells": [
  {
   "cell_type": "markdown",
   "metadata": {},
   "source": [
    "# Домашнее задание к лекции «Исключения и обработка ошибок»"
   ]
  },
  {
   "cell_type": "code",
   "execution_count": 2,
   "metadata": {},
   "outputs": [],
   "source": [
    "from datetime import datetime"
   ]
  },
  {
   "cell_type": "markdown",
   "metadata": {},
   "source": [
    "### Задание 1\n",
    "Печатные газеты использовали свой формат дат для каждого выпуска. Для каждой газеты из списка напишите формат указанной даты для перевода в объект datetime: \n",
    "The Moscow Times - Wednesday, October 2, 2002\n",
    "The Guardian - Friday, 11.10.13 \n",
    "Daily News - Thursday, 18 August 1977"
   ]
  },
  {
   "cell_type": "code",
   "execution_count": 16,
   "metadata": {},
   "outputs": [
    {
     "name": "stdout",
     "output_type": "stream",
     "text": [
      "2002-10-02 00:00:00\n",
      "2013-10-11 00:00:00\n",
      "1977-08-18 00:00:00\n"
     ]
    }
   ],
   "source": [
    "'''The Moscow Times - Wednesday, October 2, 2002 \n",
    "The Guardian - Friday, 11.10.13 \n",
    "Daily News - Thursday, 18 August 1977 '''\n",
    "\n",
    "# заведем переменные для каждой газеты\n",
    "The_Moscow_Times = 'Wednesday, October 2, 2002'\n",
    "The_Guardian = 'Friday, 11.10.13'\n",
    "Daily_News = 'Thursday, 18 August 1977'\n",
    "\n",
    "# переведем в объект datetime\n",
    "DT_The_Moscow_Time = datetime.strptime(The_Moscow_Times, '%A, %B %d, %Y')\n",
    "print(DT_The_Moscow_Time)\n",
    "DT_The_Guardian = datetime.strptime(The_Guardian, '%A, %d.%m.%y')\n",
    "print(DT_The_Guardian)\n",
    "DT_Daily_News = datetime.strptime(Daily_News, '%A, %d %B %Y')\n",
    "print(DT_Daily_News)"
   ]
  },
  {
   "cell_type": "markdown",
   "metadata": {},
   "source": [
    "## Задание 2\n",
    "Дан поток дат в формате YYYY-MM-DD, в которых встречаются некорректные значения:\n",
    "stream = [‘2018-04-02’, ‘2018-02-29’, ‘2018-19-02’]\n",
    "\n",
    "Напишите функцию, которая проверяет эти даты на корректность. Т. е. для каждой даты возвращает True (дата корректна) или False (некорректная дата)."
   ]
  },
  {
   "cell_type": "code",
   "execution_count": 24,
   "metadata": {},
   "outputs": [
    {
     "name": "stdout",
     "output_type": "stream",
     "text": [
      "2018-04-02 Дата корректна\n",
      "2018-02-29 Дата не корректна\n",
      "2018-19-02 Дата не корректна\n",
      "2020-07-08 Дата корректна\n"
     ]
    }
   ],
   "source": [
    "stream = ['2018-04-02', '2018-02-29', '2018-19-02', '2020-07-08']\n",
    "for datepattern in stream:\n",
    "    try:\n",
    "        if datetime.strptime(datepattern, '%Y-%m-%d'):\n",
    "            print(datepattern, 'Дата корректна')\n",
    "    except: print(datepattern, 'Дата не корректна')"
   ]
  },
  {
   "cell_type": "markdown",
   "metadata": {},
   "source": [
    "## Задание 3\n",
    "Напишите функцию date_range, которая возвращает список дат за период от start_date до end_date. Даты должны вводиться в формате YYYY-MM-DD. В случае неверного формата или при start_date > end_date должен возвращаться пустой список.\n"
   ]
  },
  {
   "cell_type": "code",
   "execution_count": 31,
   "metadata": {},
   "outputs": [],
   "source": [
    "from datetime import timedelta"
   ]
  },
  {
   "cell_type": "code",
   "execution_count": 76,
   "metadata": {},
   "outputs": [],
   "source": [
    "def date_range(start_date, end_date):\n",
    "    date_list = []\n",
    "    try:\n",
    "        DT_start_date = datetime.strptime(start_date, '%Y-%m-%d')\n",
    "        DT_end_date = datetime.strptime(end_date, '%Y-%m-%d')\n",
    "        if DT_end_date >= DT_start_date:\n",
    "            while DT_end_date > DT_start_date:\n",
    "                    DT_start_date += timedelta(days = 1)\n",
    "                    date_list.append(datetime.strftime(DT_start_date, '%Y-%m-%d'))\n",
    "    except: date_list\n",
    "    return date_list"
   ]
  },
  {
   "cell_type": "code",
   "execution_count": 77,
   "metadata": {},
   "outputs": [
    {
     "name": "stdout",
     "output_type": "stream",
     "text": [
      "введите начальную дату в формате YYYY-MM-DD: 2020-10-20\n",
      "введите конченую в формате YYYY-MM-DD: 2020-10-25\n"
     ]
    },
    {
     "data": {
      "text/plain": [
       "['2020-10-21', '2020-10-22', '2020-10-23', '2020-10-24', '2020-10-25']"
      ]
     },
     "execution_count": 77,
     "metadata": {},
     "output_type": "execute_result"
    }
   ],
   "source": [
    "start_date = input('введите начальную дату в формате YYYY-MM-DD: ')\n",
    "end_date = input('введите конченую в формате YYYY-MM-DD: ')\n",
    "date_range(start_date, end_date)"
   ]
  },
  {
   "cell_type": "code",
   "execution_count": 78,
   "metadata": {},
   "outputs": [
    {
     "name": "stdout",
     "output_type": "stream",
     "text": [
      "введите начальную дату в формате YYYY-MM-DD: 2020-10-20\n",
      "введите конченую в формате YYYY-MM-DD: 2020-10-19\n"
     ]
    },
    {
     "data": {
      "text/plain": [
       "[]"
      ]
     },
     "execution_count": 78,
     "metadata": {},
     "output_type": "execute_result"
    }
   ],
   "source": [
    "start_date = input('введите начальную дату в формате YYYY-MM-DD: ')\n",
    "end_date = input('введите конченую в формате YYYY-MM-DD: ')\n",
    "date_range(start_date, end_date)"
   ]
  },
  {
   "cell_type": "code",
   "execution_count": 79,
   "metadata": {},
   "outputs": [
    {
     "name": "stdout",
     "output_type": "stream",
     "text": [
      "введите начальную дату в формате YYYY-MM-DD: 2020-20-20\n",
      "введите конченую в формате YYYY-MM-DD: 2020-10-20\n"
     ]
    },
    {
     "data": {
      "text/plain": [
       "[]"
      ]
     },
     "execution_count": 79,
     "metadata": {},
     "output_type": "execute_result"
    }
   ],
   "source": [
    "start_date = input('введите начальную дату в формате YYYY-MM-DD: ')\n",
    "end_date = input('введите конченую в формате YYYY-MM-DD: ')\n",
    "date_range(start_date, end_date)"
   ]
  }
 ],
 "metadata": {
  "kernelspec": {
   "display_name": "Python 3",
   "language": "python",
   "name": "python3"
  },
  "language_info": {
   "codemirror_mode": {
    "name": "ipython",
    "version": 3
   },
   "file_extension": ".py",
   "mimetype": "text/x-python",
   "name": "python",
   "nbconvert_exporter": "python",
   "pygments_lexer": "ipython3",
   "version": "3.8.3"
  }
 },
 "nbformat": 4,
 "nbformat_minor": 4
}
