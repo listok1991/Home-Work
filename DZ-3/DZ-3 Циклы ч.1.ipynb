{
 "cells": [
  {
   "cell_type": "markdown",
   "metadata": {},
   "source": [
    "Домашнее задание к лекции \"Введение в типы данных и циклы. Часть 1\""
   ]
  },
  {
   "cell_type": "markdown",
   "metadata": {},
   "source": [
    "Задание 1\n",
    "Дана переменная, в которой хранится слово из латинских букв. Напишите код, который выводит на экран:\n",
    "\n",
    "среднюю букву, если число букв в слове нечетное;\n",
    "две средних буквы, если число букв четное.\n",
    "Примеры работы программы:\n",
    "\n",
    "word = 'test'\n",
    "Результат:\n",
    "es\n",
    "\n",
    "word = 'testing'\n",
    "Результат:\n",
    "t"
   ]
  },
  {
   "cell_type": "code",
   "execution_count": 5,
   "metadata": {},
   "outputs": [
    {
     "name": "stdout",
     "output_type": "stream",
     "text": [
      "Введите слово латинскими буквами: testing\n",
      "t\n"
     ]
    }
   ],
   "source": [
    "word=input(str(\"Введите слово латинскими буквами: \"))\n",
    "lengthword = len(word) # определяем длину слова\n",
    "mid = (lengthword//2) # определяем середину слова\n",
    "evenx = mid+1 \n",
    "eveny = mid-1 # переменные для четного слова\n",
    "\n",
    "if (lengthword%2==0):print(word[eveny:evenx])\n",
    "else: print(word[mid])"
   ]
  },
  {
   "cell_type": "markdown",
   "metadata": {},
   "source": [
    "Задание 2\n",
    "Напишите программу, которая последовательно запрашивает у пользователя числа (по одному за раз) и после первого нуля выводит сумму всех ранее введенных чисел."
   ]
  },
  {
   "cell_type": "code",
   "execution_count": 1,
   "metadata": {},
   "outputs": [
    {
     "name": "stdout",
     "output_type": "stream",
     "text": [
      "Введите число: 1\n",
      "Введите число: 3\n",
      "Введите число: 4\n",
      "Введите число: 0\n",
      "8\n"
     ]
    }
   ],
   "source": [
    "number = int(input(\"Введите число: \")) # задаём первичное значение переменной\n",
    "num = 0\n",
    "while number != 0:\n",
    "    num += number \n",
    "    number = int(input(\"Введите число: \"))\n",
    "print(num)"
   ]
  },
  {
   "cell_type": "markdown",
   "metadata": {},
   "source": [
    "Задание 3\n",
    "Мы делаем MVP dating-сервиса, и у нас есть список парней и девушек.\n",
    "Выдвигаем гипотезу: лучшие рекомендации мы получим, если просто отсортируем имена по алфавиту и познакомим людей с одинаковыми индексами после сортировки! Но мы не будем никого знакомить, если кто-то может остаться без пары:"
   ]
  },
  {
   "cell_type": "code",
   "execution_count": 30,
   "metadata": {},
   "outputs": [
    {
     "name": "stdout",
     "output_type": "stream",
     "text": [
      "Alex и Emma\n",
      "Arthur и Kate\n",
      "John и Kira\n",
      "Peter и Liza\n",
      "Richard и Trisha\n"
     ]
    }
   ],
   "source": [
    "boys = ['Peter', 'Alex', 'John', 'Arthur', 'Richard']\n",
    "girls = ['Kate', 'Liza', 'Kira', 'Emma', 'Trisha']\n",
    "list.sort(boys)\n",
    "list.sort(girls)\n",
    "# сортируем списки\n",
    "if len(boys) != len(girls):\n",
    "    print(\"Кто то может остаться без пары\")\n",
    "# опередляем если кто то может остаться без пары\n",
    "else:\n",
    "    cn=0 # вводим переменную для индексации в цикле\n",
    "    for pair in boys:\n",
    "        print(boys[cn], 'и', girls[cn])\n",
    "        cn+=1\n",
    "        \n"
   ]
  },
  {
   "cell_type": "markdown",
   "metadata": {},
   "source": [
    "Задание 4\n",
    "У нас есть список, содержащий информацию о среднедневной температуре в Фаренгейтах за произвольный период по странам (структура данных в примере). Необходимо написать код, который рассчитает среднюю температуру за период в Цельсиях(!) для каждой страны."
   ]
  },
  {
   "cell_type": "code",
   "execution_count": 45,
   "metadata": {},
   "outputs": [
    {
     "name": "stdout",
     "output_type": "stream",
     "text": [
      "Средняя температура в странах:\n",
      "Thailand  -  23.857142857142858 C\n",
      "Germany  -  13.8 C\n",
      "Russia  -  3.7142857142857144 C\n",
      "Poland  -  12.0 C\n"
     ]
    }
   ],
   "source": [
    "countries_temperature = [\n",
    "    ['Thailand', [75.2, 77, 78.8, 73.4, 68, 75.2, 77]],\n",
    "    ['Germany', [57.2, 55.4, 59, 59, 53.6]],\n",
    "    ['Russia', [35.6, 37.4, 39.2, 41, 42.8, 39.2, 35.6]],\n",
    "    ['Poland', [50, 50, 53.6, 57.2, 55.4, 55.4]]\n",
    "]\n",
    "dgCN = 0 # счетчик для цикла и индексации\n",
    "for dg in countries_temperature:\n",
    "    dgCN1 = 0 # счетчик для цикла и индексации 2\n",
    "    temperature = countries_temperature[dgCN][1]\n",
    "    for dg2 in temperature:\n",
    "        countries_temperature[dgCN][1][dgCN1] = (countries_temperature[dgCN][1][dgCN1]-32)*5/9\n",
    "        dgCN1 +=1\n",
    "    dgCN +=1\n",
    "    \n",
    "print('Средняя температура в странах:')\n",
    "\n",
    "midCN = 0 # счетчик для цикла и индексации\n",
    "for mid in countries_temperature:\n",
    "    temperature = sum(countries_temperature[midCN][1])/len(countries_temperature[midCN][1])\n",
    "    print(countries_temperature[midCN][0], ' - ', temperature, 'C')\n",
    "    midCN += 1"
   ]
  }
 ],
 "metadata": {
  "kernelspec": {
   "display_name": "Python 3",
   "language": "python",
   "name": "python3"
  },
  "language_info": {
   "codemirror_mode": {
    "name": "ipython",
    "version": 3
   },
   "file_extension": ".py",
   "mimetype": "text/x-python",
   "name": "python",
   "nbconvert_exporter": "python",
   "pygments_lexer": "ipython3",
   "version": "3.8.3"
  }
 },
 "nbformat": 4,
 "nbformat_minor": 4
}
