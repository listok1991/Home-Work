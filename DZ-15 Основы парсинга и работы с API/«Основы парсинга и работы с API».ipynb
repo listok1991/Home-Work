{
 "cells": [
  {
   "cell_type": "markdown",
   "metadata": {},
   "source": [
    "# Домашнее задание к лекции \"Основы веб-скрапинга и работы с API\"¶"
   ]
  },
  {
   "cell_type": "markdown",
   "metadata": {},
   "source": [
    "### Задание 1.\n",
    "Обязательная часть  \n",
    "Будем парсить страницу со свежеми новостям на habr.com/ru/all/.  \n",
    "\n",
    "Вам необходимо собирать только те статьи, в которых встречается хотя бы одно требуемое ключевое слово. Эти слова определяем в начале кода в переменной, например:  \n",
    "\n",
    "KEYWORDS = ['python', 'парсинг']  \n",
    "\n",
    "Поиск вести по всей доступной preview-информации (это информация, доступная непосредственно с текущей страницы).  \n",
    "\n",
    "В итоге должен формироваться датафрейм вида: <дата> - <заголовок> - <ссылка>  "
   ]
  },
  {
   "cell_type": "code",
   "execution_count": 1,
   "metadata": {},
   "outputs": [],
   "source": [
    "import requests\n",
    "import pandas as pd\n",
    "from bs4 import BeautifulSoup\n",
    "import time\n",
    "import json"
   ]
  },
  {
   "cell_type": "code",
   "execution_count": 170,
   "metadata": {},
   "outputs": [],
   "source": [
    "KEYWORDS = ['python', 'парсинг', 'sony', 'обратная', 'водител', 'карьер', 'интернет']"
   ]
  },
  {
   "cell_type": "code",
   "execution_count": 148,
   "metadata": {},
   "outputs": [],
   "source": [
    "res = requests.get('https://habr.com/ru/all/') \n",
    "soup = BeautifulSoup(res.text, 'html.parser')\n",
    "posts = soup.find_all('article', class_='post')"
   ]
  },
  {
   "cell_type": "code",
   "execution_count": 171,
   "metadata": {},
   "outputs": [
    {
     "data": {
      "text/html": [
       "<div>\n",
       "<style scoped>\n",
       "    .dataframe tbody tr th:only-of-type {\n",
       "        vertical-align: middle;\n",
       "    }\n",
       "\n",
       "    .dataframe tbody tr th {\n",
       "        vertical-align: top;\n",
       "    }\n",
       "\n",
       "    .dataframe thead th {\n",
       "        text-align: right;\n",
       "    }\n",
       "</style>\n",
       "<table border=\"1\" class=\"dataframe\">\n",
       "  <thead>\n",
       "    <tr style=\"text-align: right;\">\n",
       "      <th></th>\n",
       "      <th>time</th>\n",
       "      <th>heads</th>\n",
       "      <th>links</th>\n",
       "    </tr>\n",
       "  </thead>\n",
       "  <tbody>\n",
       "    <tr>\n",
       "      <th>0</th>\n",
       "      <td>сегодня в 12:23</td>\n",
       "      <td>\\nНовый продукт как результат карьерных измене...</td>\n",
       "      <td>https://habr.com/ru/post/530472/</td>\n",
       "    </tr>\n",
       "    <tr>\n",
       "      <th>0</th>\n",
       "      <td>сегодня в 11:28</td>\n",
       "      <td>\\nСистемы отслеживания состояния водителей\\n</td>\n",
       "      <td>https://habr.com/ru/company/itelma/blog/532640/</td>\n",
       "    </tr>\n",
       "    <tr>\n",
       "      <th>0</th>\n",
       "      <td>сегодня в 01:09</td>\n",
       "      <td>\\nПора ли отказываться от обычного Интернета в...</td>\n",
       "      <td>https://habr.com/ru/post/532644/</td>\n",
       "    </tr>\n",
       "  </tbody>\n",
       "</table>\n",
       "</div>"
      ],
      "text/plain": [
       "              time                                              heads  \\\n",
       "0  сегодня в 12:23  \\nНовый продукт как результат карьерных измене...   \n",
       "0  сегодня в 11:28       \\nСистемы отслеживания состояния водителей\\n   \n",
       "0  сегодня в 01:09  \\nПора ли отказываться от обычного Интернета в...   \n",
       "\n",
       "                                             links  \n",
       "0                 https://habr.com/ru/post/530472/  \n",
       "0  https://habr.com/ru/company/itelma/blog/532640/  \n",
       "0                 https://habr.com/ru/post/532644/  "
      ]
     },
     "execution_count": 171,
     "metadata": {},
     "output_type": "execute_result"
    }
   ],
   "source": [
    "habrframe = pd.DataFrame() # создаём пустую таблицу\n",
    "for post in posts: # цикл для извлечения параметров постов\n",
    "    cnt = 0 # счетчик проверки вхождения KEYWORDS\n",
    "    text = post.find('div', class_ = 'post__text').text.lower()\n",
    "    # проверка вхождения заданных слов в заголовок\n",
    "    for words in KEYWORDS:\n",
    "        if words in text:\n",
    "            cnt +=1 \n",
    "    if cnt > 0:\n",
    "        heads = post.find('h2', class_ = 'post__title').text #извлекаем заголовкистатей\n",
    "        time = post.find('span', class_ = 'post__time').text # извлекаем время\n",
    "        link = post.find('h2', class_ = 'post__title').find('a').get('href') # извлекаем ссылку\n",
    "        row = {'time': time, 'heads': heads, 'links': link} # создаем словарь, для дальнейшего создания строки\n",
    "        habrframe = pd.concat([habrframe, pd.DataFrame([row])])\n",
    "habrframe"
   ]
  },
  {
   "cell_type": "code",
   "execution_count": null,
   "metadata": {},
   "outputs": [],
   "source": []
  },
  {
   "cell_type": "markdown",
   "metadata": {},
   "source": [
    "### Задание 2.\n",
    "Обязательная часть  \n",
    "Написать скрипт, который будет проверять список e-mail адресов на утечку при помощи сервиса Avast Hack Ckeck. Список email-ов задаем переменной в начале кода:  \n",
    "EMAIL = [xxx@x.ru, yyy@y.com]  \n",
    "\n",
    "В итоге должен формироваться датафрейм со столбцами: <почта> - <дата утечки> - <источник утечки> - <описание утечки>  \n",
    "\n",
    "Подсказка: сервис работает при помощи \"скрытого\" API. Внимательно изучите post-запросы.  "
   ]
  },
  {
   "cell_type": "code",
   "execution_count": 2,
   "metadata": {},
   "outputs": [],
   "source": [
    "EMAIL = ['listok@mail.ru', 'sobaka@mail.ru', 'koshka@mail.ru']"
   ]
  },
  {
   "cell_type": "code",
   "execution_count": 9,
   "metadata": {},
   "outputs": [],
   "source": [
    "url = 'https://identityprotection.avast.com/v1/web/query/site-breaches/unauthorized-data'\n",
    "mail = {'emailAddresses': ['listok@mail.ru']}\n",
    "headers = {'Accept': 'application/json, text/plain, */*',\n",
    "           'Accept-Encoding': 'gzip, deflate, br',\n",
    "           'Accept-Language': 'ru-RU,ru;q=0.9,en-US;q=0.8,en;q=0.7',\n",
    "           'Connection': 'keep-alive',\n",
    "           'Content-Length': '41',\n",
    "           'Content-Type': 'application/json;charset=UTF-8',\n",
    "           'Host': 'identityprotection.avast.com',\n",
    "           'Origin': 'https://www.avast.com',\n",
    "           'Referer': 'https://www.avast.com/',\n",
    "           'Sec-Fetch-Dest': 'empty',\n",
    "           'Sec-Fetch-Mode': 'cors',\n",
    "           'Sec-Fetch-Site': 'same-site',\n",
    "           'User-Agent': 'Mozilla/5.0 (Windows NT 10.0; Win64; x64) AppleWebKit/537.36 (KHTML, like Gecko) Chrome/87.0.4280.88 Safari/537.36',\n",
    "           'Vaar-Header-App-Product': 'hackcheck-web-avast',\n",
    "           'Vaar-Version': '0'\n",
    "          }"
   ]
  },
  {
   "cell_type": "code",
   "execution_count": 17,
   "metadata": {},
   "outputs": [
    {
     "name": "stdout",
     "output_type": "stream",
     "text": [
      "<Response [200]>\n",
      "<Response [200]>\n",
      "<Response [200]>\n"
     ]
    }
   ],
   "source": [
    "mailframe = pd.DataFrame() # создаем пустой дата фрейм для дальнейшего наполнения\n",
    "for email in EMAIL: # итерирование по списку электронной почты\n",
    "    avastdata = requests.post(url, json ={'emailAddresses': [email]} , headers = headers) # post запрос на сервер\n",
    "    print(avastdata) # вывод статуса для контроля прохождения цикла\n",
    "    if avastdata.text == 'null': # проверка на корректность ответа от сервера\n",
    "        print(\"c сервера вернулся пустой ответ\")\n",
    "        continue\n",
    "    time.sleep(0.9) \n",
    "    maildata = json.loads(avastdata.text)['breaches'] # преобразование ответа от сервера в словарь\n",
    "    for rowvalue in maildata.values(): #итерация по словарю, запись значений в строку\n",
    "        datemail = rowvalue['publishDate']\n",
    "        sourcemail = rowvalue['site']\n",
    "        descriptionmail = rowvalue['description']\n",
    "        row = {'Email': email, 'date': datemail, 'source': sourcemail, 'description': descriptionmail}\n",
    "        mailframe = pd.concat([mailframe, pd.DataFrame([row])])"
   ]
  },
  {
   "cell_type": "code",
   "execution_count": 18,
   "metadata": {},
   "outputs": [
    {
     "data": {
      "text/html": [
       "<div>\n",
       "<style scoped>\n",
       "    .dataframe tbody tr th:only-of-type {\n",
       "        vertical-align: middle;\n",
       "    }\n",
       "\n",
       "    .dataframe tbody tr th {\n",
       "        vertical-align: top;\n",
       "    }\n",
       "\n",
       "    .dataframe thead th {\n",
       "        text-align: right;\n",
       "    }\n",
       "</style>\n",
       "<table border=\"1\" class=\"dataframe\">\n",
       "  <thead>\n",
       "    <tr style=\"text-align: right;\">\n",
       "      <th></th>\n",
       "      <th>Email</th>\n",
       "      <th>date</th>\n",
       "      <th>source</th>\n",
       "      <th>description</th>\n",
       "    </tr>\n",
       "  </thead>\n",
       "  <tbody>\n",
       "    <tr>\n",
       "      <th>0</th>\n",
       "      <td>listok@mail.ru</td>\n",
       "      <td>2019-03-28T00:00:00Z</td>\n",
       "      <td>verifications.io</td>\n",
       "      <td>Big data e-mail verification platform verifica...</td>\n",
       "    </tr>\n",
       "    <tr>\n",
       "      <th>0</th>\n",
       "      <td>listok@mail.ru</td>\n",
       "      <td>2020-05-21T00:00:00Z</td>\n",
       "      <td>vk.com</td>\n",
       "      <td>At some time in 2020, the Russian social netwo...</td>\n",
       "    </tr>\n",
       "    <tr>\n",
       "      <th>0</th>\n",
       "      <td>listok@mail.ru</td>\n",
       "      <td>2017-08-30T00:00:00Z</td>\n",
       "      <td>sprashivai.ru</td>\n",
       "      <td>In January 2015, Sprashivai.ru's user database...</td>\n",
       "    </tr>\n",
       "    <tr>\n",
       "      <th>0</th>\n",
       "      <td>listok@mail.ru</td>\n",
       "      <td>2016-11-01T00:00:00Z</td>\n",
       "      <td>qip.ru</td>\n",
       "      <td>In 2011, Russian instant messaging service pro...</td>\n",
       "    </tr>\n",
       "    <tr>\n",
       "      <th>0</th>\n",
       "      <td>listok@mail.ru</td>\n",
       "      <td>2019-11-21T00:00:00Z</td>\n",
       "      <td>faucethub.io</td>\n",
       "      <td>At an unconfirmed date, cryptocurrency micropa...</td>\n",
       "    </tr>\n",
       "    <tr>\n",
       "      <th>...</th>\n",
       "      <td>...</td>\n",
       "      <td>...</td>\n",
       "      <td>...</td>\n",
       "      <td>...</td>\n",
       "    </tr>\n",
       "    <tr>\n",
       "      <th>0</th>\n",
       "      <td>koshka@mail.ru</td>\n",
       "      <td>2020-12-10T00:00:00Z</td>\n",
       "      <td>geoflor.ru</td>\n",
       "      <td>In November 2020, a collection of over 23,000 ...</td>\n",
       "    </tr>\n",
       "    <tr>\n",
       "      <th>0</th>\n",
       "      <td>koshka@mail.ru</td>\n",
       "      <td>2020-04-09T00:00:00Z</td>\n",
       "      <td>vkmix.com</td>\n",
       "      <td>At an unconfirmed date, the Russian social med...</td>\n",
       "    </tr>\n",
       "    <tr>\n",
       "      <th>0</th>\n",
       "      <td>koshka@mail.ru</td>\n",
       "      <td>2020-11-05T00:00:00Z</td>\n",
       "      <td>vimeworld.ru</td>\n",
       "      <td>In January 2018, the Russian Minecraft server ...</td>\n",
       "    </tr>\n",
       "    <tr>\n",
       "      <th>0</th>\n",
       "      <td>koshka@mail.ru</td>\n",
       "      <td>2020-12-03T00:00:00Z</td>\n",
       "      <td>forumy.ru</td>\n",
       "      <td>In November 2020, a collection of over 23,000 ...</td>\n",
       "    </tr>\n",
       "    <tr>\n",
       "      <th>0</th>\n",
       "      <td>koshka@mail.ru</td>\n",
       "      <td>2019-05-23T00:00:00Z</td>\n",
       "      <td>livejournal.com</td>\n",
       "      <td>In 2017, social network LiveJournal's database...</td>\n",
       "    </tr>\n",
       "  </tbody>\n",
       "</table>\n",
       "<p>61 rows × 4 columns</p>\n",
       "</div>"
      ],
      "text/plain": [
       "             Email                  date            source  \\\n",
       "0   listok@mail.ru  2019-03-28T00:00:00Z  verifications.io   \n",
       "0   listok@mail.ru  2020-05-21T00:00:00Z            vk.com   \n",
       "0   listok@mail.ru  2017-08-30T00:00:00Z     sprashivai.ru   \n",
       "0   listok@mail.ru  2016-11-01T00:00:00Z            qip.ru   \n",
       "0   listok@mail.ru  2019-11-21T00:00:00Z      faucethub.io   \n",
       "..             ...                   ...               ...   \n",
       "0   koshka@mail.ru  2020-12-10T00:00:00Z        geoflor.ru   \n",
       "0   koshka@mail.ru  2020-04-09T00:00:00Z         vkmix.com   \n",
       "0   koshka@mail.ru  2020-11-05T00:00:00Z      vimeworld.ru   \n",
       "0   koshka@mail.ru  2020-12-03T00:00:00Z         forumy.ru   \n",
       "0   koshka@mail.ru  2019-05-23T00:00:00Z   livejournal.com   \n",
       "\n",
       "                                          description  \n",
       "0   Big data e-mail verification platform verifica...  \n",
       "0   At some time in 2020, the Russian social netwo...  \n",
       "0   In January 2015, Sprashivai.ru's user database...  \n",
       "0   In 2011, Russian instant messaging service pro...  \n",
       "0   At an unconfirmed date, cryptocurrency micropa...  \n",
       "..                                                ...  \n",
       "0   In November 2020, a collection of over 23,000 ...  \n",
       "0   At an unconfirmed date, the Russian social med...  \n",
       "0   In January 2018, the Russian Minecraft server ...  \n",
       "0   In November 2020, a collection of over 23,000 ...  \n",
       "0   In 2017, social network LiveJournal's database...  \n",
       "\n",
       "[61 rows x 4 columns]"
      ]
     },
     "execution_count": 18,
     "metadata": {},
     "output_type": "execute_result"
    }
   ],
   "source": [
    "mailframe"
   ]
  }
 ],
 "metadata": {
  "kernelspec": {
   "display_name": "Python 3",
   "language": "python",
   "name": "python3"
  },
  "language_info": {
   "codemirror_mode": {
    "name": "ipython",
    "version": 3
   },
   "file_extension": ".py",
   "mimetype": "text/x-python",
   "name": "python",
   "nbconvert_exporter": "python",
   "pygments_lexer": "ipython3",
   "version": "3.8.3"
  }
 },
 "nbformat": 4,
 "nbformat_minor": 4
}
